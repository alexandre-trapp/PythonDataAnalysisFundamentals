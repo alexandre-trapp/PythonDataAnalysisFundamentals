{
 "cells": [
  {
   "cell_type": "code",
   "execution_count": 1,
   "metadata": {},
   "outputs": [],
   "source": [
    "class Animal:\n",
    "    \n",
    "    def __init__(self):\n",
    "        print(\"Animal criado\")\n",
    "        \n",
    "    def identif(self):\n",
    "        print(\"animal\")\n",
    "        \n",
    "    def comer(self):\n",
    "        print(\"comendo\")"
   ]
  },
  {
   "cell_type": "code",
   "execution_count": 2,
   "metadata": {},
   "outputs": [],
   "source": [
    "class Cachorro(Animal):\n",
    "    \n",
    "    def __init__(self):\n",
    "        \n",
    "        Animal.__init__(self)\n",
    "        print(\"objeto cachorro criado\")\n",
    "        \n",
    "    def identif(self):\n",
    "        print(\"cachorro\")\n",
    "        \n",
    "    def latir(self):\n",
    "        print(\"au au\")"
   ]
  },
  {
   "cell_type": "code",
   "execution_count": 3,
   "metadata": {},
   "outputs": [
    {
     "name": "stdout",
     "output_type": "stream",
     "text": [
      "Animal criado\n",
      "objeto cachorro criado\n"
     ]
    }
   ],
   "source": [
    "cachorro = Cachorro()"
   ]
  },
  {
   "cell_type": "code",
   "execution_count": 5,
   "metadata": {},
   "outputs": [
    {
     "name": "stdout",
     "output_type": "stream",
     "text": [
      "au au\n"
     ]
    }
   ],
   "source": [
    "cachorro.latir()"
   ]
  },
  {
   "cell_type": "code",
   "execution_count": 7,
   "metadata": {},
   "outputs": [
    {
     "name": "stdout",
     "output_type": "stream",
     "text": [
      "comendo\n"
     ]
    }
   ],
   "source": [
    "cachorro.comer()"
   ]
  },
  {
   "cell_type": "code",
   "execution_count": null,
   "metadata": {},
   "outputs": [],
   "source": []
  }
 ],
 "metadata": {
  "kernelspec": {
   "display_name": "Python 3",
   "language": "python",
   "name": "python3"
  },
  "language_info": {
   "codemirror_mode": {
    "name": "ipython",
    "version": 3
   },
   "file_extension": ".py",
   "mimetype": "text/x-python",
   "name": "python",
   "nbconvert_exporter": "python",
   "pygments_lexer": "ipython3",
   "version": "3.6.5"
  }
 },
 "nbformat": 4,
 "nbformat_minor": 2
}
