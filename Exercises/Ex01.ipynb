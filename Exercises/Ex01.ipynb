{
 "cells": [
  {
   "cell_type": "code",
   "execution_count": 1,
   "metadata": {},
   "outputs": [
    {
     "name": "stdout",
     "output_type": "stream",
     "text": [
      "[1, 2, 3, 4, 5, 6, 7, 8, 9, 10]\n"
     ]
    }
   ],
   "source": [
    "lista = [1,2,3,4,5,6,7,8,9,10]\n",
    "print(lista)"
   ]
  },
  {
   "cell_type": "code",
   "execution_count": 3,
   "metadata": {},
   "outputs": [
    {
     "name": "stdout",
     "output_type": "stream",
     "text": [
      "[1, '2', 'banana', 'morango', 'abacaxi']\n"
     ]
    }
   ],
   "source": [
    "listaObj = [1, \"2\", 'banana', 'morango', 'abacaxi']\n",
    "print(listaObj)\n"
   ]
  },
  {
   "cell_type": "code",
   "execution_count": 4,
   "metadata": {},
   "outputs": [
    {
     "name": "stdout",
     "output_type": "stream",
     "text": [
      "ronaldocurintia\n"
     ]
    }
   ],
   "source": [
    "str1 = \"ronaldo\"\n",
    "str2 = \"curintia\"\n",
    "str3 = str1 + str2\n",
    "print(str3)"
   ]
  },
  {
   "cell_type": "code",
   "execution_count": 6,
   "metadata": {},
   "outputs": [
    {
     "data": {
      "text/plain": [
       "3"
      ]
     },
     "execution_count": 6,
     "metadata": {},
     "output_type": "execute_result"
    }
   ],
   "source": [
    "tupla = (1,2,2,3,4,4,4,5)\n",
    "tupla.count(4)"
   ]
  },
  {
   "cell_type": "code",
   "execution_count": 16,
   "metadata": {},
   "outputs": [
    {
     "name": "stdout",
     "output_type": "stream",
     "text": [
      "{}\n"
     ]
    }
   ],
   "source": [
    "dict = {}\n",
    "print(dict)"
   ]
  },
  {
   "cell_type": "code",
   "execution_count": 15,
   "metadata": {},
   "outputs": [
    {
     "name": "stdout",
     "output_type": "stream",
     "text": [
      "{'1': 'martelo', '2': 'serrote', '3': 'machado'}\n",
      "{'1': 'martelo', '2': 'serrote', '3': 'machado', '4': 'parafuso'}\n"
     ]
    }
   ],
   "source": [
    "dict2 = {'1':'martelo','2':'serrote','3':'machado'}\n",
    "print(dict2)\n",
    "\n",
    "dict2['4'] = 'parafuso'\n",
    "print(dict2)"
   ]
  },
  {
   "cell_type": "code",
   "execution_count": 21,
   "metadata": {},
   "outputs": [
    {
     "name": "stdout",
     "output_type": "stream",
     "text": [
      "{'1': 'geografia', '2': 'biologia', '3': [70, 90]}\n",
      "1\n"
     ]
    }
   ],
   "source": [
    "dict3 = {'1':'geografia','2':'biologia', '3':[70,90]}\n",
    "print(dict3)\n",
    "\n",
    "a = 1\n",
    "print(a)"
   ]
  },
  {
   "cell_type": "code",
   "execution_count": 22,
   "metadata": {},
   "outputs": [
    {
     "name": "stdout",
     "output_type": "stream",
     "text": [
      "['string1', (90, 92), {'1': 'v1', '2': 'v2', '3': 'v3'}, 99.1]\n"
     ]
    }
   ],
   "source": [
    "lst = ['string1', (90,92), {'1':'v1','2':'v2', '3':'v3'}, 99.10]\n",
    "print(lst)\n"
   ]
  },
  {
   "cell_type": "code",
   "execution_count": 29,
   "metadata": {},
   "outputs": [
    {
     "data": {
      "text/plain": [
       "'Cientista de Dados é o profissio'"
      ]
     },
     "execution_count": 29,
     "metadata": {},
     "output_type": "execute_result"
    }
   ],
   "source": [
    "frase = 'Cientista de Dados é o profissional mais sexy do século XXI'\n",
    "frase[0:32]\n"
   ]
  }
 ],
 "metadata": {
  "kernelspec": {
   "display_name": "Python 3",
   "language": "python",
   "name": "python3"
  },
  "language_info": {
   "codemirror_mode": {
    "name": "ipython",
    "version": 3
   },
   "file_extension": ".py",
   "mimetype": "text/x-python",
   "name": "python",
   "nbconvert_exporter": "python",
   "pygments_lexer": "ipython3",
   "version": "3.6.5"
  }
 },
 "nbformat": 4,
 "nbformat_minor": 2
}
