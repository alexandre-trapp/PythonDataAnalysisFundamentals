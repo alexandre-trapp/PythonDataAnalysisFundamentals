{
 "cells": [
  {
   "cell_type": "code",
   "execution_count": 3,
   "metadata": {},
   "outputs": [],
   "source": [
    "import os\n",
    "os.remove(\"escola.db\") if os.path.exists(\"escola.db\") else None"
   ]
  },
  {
   "cell_type": "code",
   "execution_count": 4,
   "metadata": {},
   "outputs": [],
   "source": [
    "import sqlite3"
   ]
  },
  {
   "cell_type": "code",
   "execution_count": 5,
   "metadata": {},
   "outputs": [],
   "source": [
    "# cria conexao com banco de dados\n",
    "# se o banco de dados não existir, ele é criado nesse momento\n",
    "con = sqlite3.connect('escola.db')"
   ]
  },
  {
   "cell_type": "code",
   "execution_count": 11,
   "metadata": {},
   "outputs": [
    {
     "data": {
      "text/plain": [
       "sqlite3.Connection"
      ]
     },
     "execution_count": 11,
     "metadata": {},
     "output_type": "execute_result"
    }
   ],
   "source": [
    "type(con)"
   ]
  },
  {
   "cell_type": "code",
   "execution_count": 6,
   "metadata": {},
   "outputs": [
    {
     "data": {
      "text/plain": [
       "sqlite3.Cursor"
      ]
     },
     "execution_count": 6,
     "metadata": {},
     "output_type": "execute_result"
    }
   ],
   "source": [
    "# criando um cursor\n",
    "# um cursor permite percorrer todos os registros em conjunto de dados\n",
    "cur = con.cursor()\n",
    "type(cur)"
   ]
  },
  {
   "cell_type": "code",
   "execution_count": 7,
   "metadata": {},
   "outputs": [
    {
     "data": {
      "text/plain": [
       "<sqlite3.Cursor at 0x27ae8c4b9d0>"
      ]
     },
     "execution_count": 7,
     "metadata": {},
     "output_type": "execute_result"
    }
   ],
   "source": [
    "sql_create = 'create table cursos '\\\n",
    "'(id integer primary key not null,'\\\n",
    "'titulo varchar(100),'\\\n",
    "'categoria varchar(140))'\n",
    "\n",
    "# executando a instrucao sql no cursor\n",
    "cur.execute(sql_create)"
   ]
  },
  {
   "cell_type": "code",
   "execution_count": 8,
   "metadata": {},
   "outputs": [],
   "source": [
    "sql_insert = 'insert into cursos values (?,?,?)'\n",
    "recset = [(1000, 'Ciencia de dados','Data Science'),\n",
    "          (1001, 'big data fundamentos', 'Big Data'),\n",
    "          (1002, 'Python fundamentos','Análise de Dados')]\n",
    "\n",
    "#inserindo os registros\n",
    "for rec in recset:\n",
    "    cur.execute(sql_insert, rec)"
   ]
  },
  {
   "cell_type": "code",
   "execution_count": 9,
   "metadata": {},
   "outputs": [],
   "source": [
    "con.commit()"
   ]
  },
  {
   "cell_type": "code",
   "execution_count": 29,
   "metadata": {},
   "outputs": [
    {
     "name": "stdout",
     "output_type": "stream",
     "text": [
      "(1000, 'Ciencia de dados', 'Data Science')\n",
      "(1001, 'big data fundamentos', 'Big Data')\n",
      "(1002, 'Python fundamentos', 'Análise de Dados')\n"
     ]
    }
   ],
   "source": [
    "cur.execute('SELECT * FROM CURSOS')\n",
    "for linha in cur.fetchall():\n",
    "    print(linha)"
   ]
  },
  {
   "cell_type": "code",
   "execution_count": 11,
   "metadata": {},
   "outputs": [],
   "source": [
    "sql_insert = 'insert into cursos values (?,?,?)'\n",
    "recset = [(1003, 'Ronaldo','Curintia')]\n",
    "\n",
    "#inserindo os registros\n",
    "for rec in recset:\n",
    "    cur.execute(sql_insert, rec)"
   ]
  },
  {
   "cell_type": "code",
   "execution_count": 12,
   "metadata": {},
   "outputs": [
    {
     "ename": "AttributeError",
     "evalue": "'sqlite3.Cursor' object has no attribute 'commit'",
     "output_type": "error",
     "traceback": [
      "\u001b[1;31m---------------------------------------------------------------------------\u001b[0m",
      "\u001b[1;31mAttributeError\u001b[0m                            Traceback (most recent call last)",
      "\u001b[1;32m<ipython-input-12-5f9fa7ab84b4>\u001b[0m in \u001b[0;36m<module>\u001b[1;34m()\u001b[0m\n\u001b[1;32m----> 1\u001b[1;33m \u001b[0mcur\u001b[0m\u001b[1;33m.\u001b[0m\u001b[0mcommit\u001b[0m\u001b[1;33m(\u001b[0m\u001b[1;33m)\u001b[0m\u001b[1;33m\u001b[0m\u001b[0m\n\u001b[0m",
      "\u001b[1;31mAttributeError\u001b[0m: 'sqlite3.Cursor' object has no attribute 'commit'"
     ]
    }
   ],
   "source": [
    "cur.commit()"
   ]
  },
  {
   "cell_type": "code",
   "execution_count": 13,
   "metadata": {},
   "outputs": [],
   "source": [
    "con.commit()"
   ]
  },
  {
   "cell_type": "code",
   "execution_count": 23,
   "metadata": {},
   "outputs": [],
   "source": [
    "sql_update = \"UPDATE CURSOS SET TITULO = 'Ronaldinho' WHERE ID = 1003\"\n",
    "cur.execute(sql_update)\n",
    "con.commit()\n"
   ]
  },
  {
   "cell_type": "code",
   "execution_count": 22,
   "metadata": {},
   "outputs": [
    {
     "ename": "AttributeError",
     "evalue": "'sqlite3.Cursor' object has no attribute 'commit'",
     "output_type": "error",
     "traceback": [
      "\u001b[1;31m---------------------------------------------------------------------------\u001b[0m",
      "\u001b[1;31mAttributeError\u001b[0m                            Traceback (most recent call last)",
      "\u001b[1;32m<ipython-input-22-5f9fa7ab84b4>\u001b[0m in \u001b[0;36m<module>\u001b[1;34m()\u001b[0m\n\u001b[1;32m----> 1\u001b[1;33m \u001b[0mcur\u001b[0m\u001b[1;33m.\u001b[0m\u001b[0mcommit\u001b[0m\u001b[1;33m(\u001b[0m\u001b[1;33m)\u001b[0m\u001b[1;33m\u001b[0m\u001b[0m\n\u001b[0m",
      "\u001b[1;31mAttributeError\u001b[0m: 'sqlite3.Cursor' object has no attribute 'commit'"
     ]
    }
   ],
   "source": [
    "cur.commit()"
   ]
  },
  {
   "cell_type": "code",
   "execution_count": 24,
   "metadata": {},
   "outputs": [
    {
     "name": "stdout",
     "output_type": "stream",
     "text": [
      "(1000, 'Ciencia de dados', 'Data Science')\n",
      "(1001, 'big data fundamentos', 'Big Data')\n",
      "(1002, 'Python fundamentos', 'Análise de Dados')\n",
      "(1003, 'Ronaldinho', 'Curintia')\n"
     ]
    }
   ],
   "source": [
    "cur.execute('SELECT * FROM CURSOS')\n",
    "for linha in cur.fetchall():\n",
    "    print(linha)"
   ]
  },
  {
   "cell_type": "code",
   "execution_count": 27,
   "metadata": {},
   "outputs": [],
   "source": [
    "cur.execute('DELETE FROM CURSOS WHERE ID = 1003')\n",
    "\n",
    "con.commit()\n",
    "\n",
    "\n",
    "for linha in cur.fetchall():\n",
    "    print(linha)"
   ]
  },
  {
   "cell_type": "code",
   "execution_count": 28,
   "metadata": {},
   "outputs": [],
   "source": [
    "\n",
    "for linha in cur.fetchall():\n",
    "    print(linha)"
   ]
  },
  {
   "cell_type": "code",
   "execution_count": null,
   "metadata": {},
   "outputs": [],
   "source": []
  }
 ],
 "metadata": {
  "kernelspec": {
   "display_name": "Python 3",
   "language": "python",
   "name": "python3"
  },
  "language_info": {
   "codemirror_mode": {
    "name": "ipython",
    "version": 3
   },
   "file_extension": ".py",
   "mimetype": "text/x-python",
   "name": "python",
   "nbconvert_exporter": "python",
   "pygments_lexer": "ipython3",
   "version": "3.6.5"
  }
 },
 "nbformat": 4,
 "nbformat_minor": 2
}
